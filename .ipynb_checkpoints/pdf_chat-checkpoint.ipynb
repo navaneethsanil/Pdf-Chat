{
 "cells": [
  {
   "cell_type": "code",
   "execution_count": null,
   "id": "3e6a0bb3-12d0-4db5-9581-ea4297858cb3",
   "metadata": {},
   "outputs": [],
   "source": []
  }
 ],
 "metadata": {
  "kernelspec": {
   "display_name": "pdf_chat_ipykernel",
   "language": "python",
   "name": "pdf_chat_ipykernel"
  },
  "language_info": {
   "codemirror_mode": {
    "name": "ipython",
    "version": 3
   },
   "file_extension": ".py",
   "mimetype": "text/x-python",
   "name": "python",
   "nbconvert_exporter": "python",
   "pygments_lexer": "ipython3",
   "version": "3.12.7"
  },
  "widgets": {
   "application/vnd.jupyter.widget-state+json": {
    "state": {},
    "version_major": 2,
    "version_minor": 0
   }
  }
 },
 "nbformat": 4,
 "nbformat_minor": 5
}
