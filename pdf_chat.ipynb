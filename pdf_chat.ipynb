{
  "cells": [
    {
      "cell_type": "markdown",
      "metadata": {
        "id": "view-in-github",
        "colab_type": "text"
      },
      "source": [
        "<a href=\"https://colab.research.google.com/github/navaneethsanil/Pdf-Chat/blob/main/pdf_chat.ipynb\" target=\"_parent\"><img src=\"https://colab.research.google.com/assets/colab-badge.svg\" alt=\"Open In Colab\"/></a>"
      ]
    },
    {
      "cell_type": "code",
      "execution_count": 2,
      "id": "3e6a0bb3-12d0-4db5-9581-ea4297858cb3",
      "metadata": {
        "id": "3e6a0bb3-12d0-4db5-9581-ea4297858cb3"
      },
      "outputs": [],
      "source": [
        "import os\n",
        "import getpass\n",
        "import gradio as gr\n",
        "\n",
        "from langchain_community.document_loaders import PyPDFLoader\n",
        "from langchain_text_splitters import RecursiveCharacterTextSplitter\n",
        "from langchain_huggingface import HuggingFaceEmbeddings\n",
        "from langchain_pinecone import PineconeVectorStore\n",
        "from langchain_mistralai import ChatMistralAI\n",
        "from langchain import hub\n",
        "from langchain.chains.combine_documents import create_stuff_documents_chain\n",
        "from langchain.chains.retrieval import create_retrieval_chain"
      ]
    },
    {
      "cell_type": "code",
      "source": [
        "from dotenv import load_dotenv\n",
        "load_dotenv()"
      ],
      "metadata": {
        "id": "bgHQlI0exIEs",
        "colab": {
          "base_uri": "https://localhost:8080/"
        },
        "outputId": "fc12c6c0-09d7-4add-c430-872b4557234e"
      },
      "id": "bgHQlI0exIEs",
      "execution_count": 3,
      "outputs": [
        {
          "output_type": "execute_result",
          "data": {
            "text/plain": [
              "True"
            ]
          },
          "metadata": {},
          "execution_count": 3
        }
      ]
    },
    {
      "cell_type": "code",
      "source": [
        "# Please enter your env variables\n",
        "print(\"Enter MISTRAL_API_KEY\")\n",
        "os.environ[\"MISTRAL_API_KEY\"] = getpass.getpass()\n",
        "print(\"Enter PINECONE_API_KEY\")\n",
        "os.environ[\"PINECONE_API_KEY\"] = getpass.getpass()\n",
        "print(\"Enter INDEX_NAME\")\n",
        "os.environ[\"INDEX_NAME\"] = getpass.getpass()\n",
        "print(\"Enter LANGSMITH_API_KEY\")\n",
        "LANGCHAIN_TRACING_V2=True\n",
        "os.environ[\"LANGSMITH_API_KEY\"] = getpass.getpass()"
      ],
      "metadata": {
        "id": "bRJQR_kXilGM"
      },
      "id": "bRJQR_kXilGM",
      "execution_count": null,
      "outputs": []
    },
    {
      "cell_type": "markdown",
      "source": [
        "# **Upload document to pinecone vector database**"
      ],
      "metadata": {
        "id": "VonVsxT0TFOc"
      },
      "id": "VonVsxT0TFOc"
    },
    {
      "cell_type": "code",
      "source": [
        "# Embedding model setup\n",
        "embedding_model = HuggingFaceEmbeddings(model_name=\"sentence-transformers/all-mpnet-base-v2\")"
      ],
      "metadata": {
        "id": "c0DBVU8lRWmh"
      },
      "id": "c0DBVU8lRWmh",
      "execution_count": 8,
      "outputs": []
    },
    {
      "cell_type": "code",
      "source": [
        "def upload_document(doc_path: str):\n",
        "  try:\n",
        "    # Load the document\n",
        "    loader = PyPDFLoader(doc_path)\n",
        "\n",
        "    pages = []\n",
        "    for page in loader.lazy_load():\n",
        "      pages.append(page)\n",
        "\n",
        "    # Splitting text into text_chunks\n",
        "    text_splitter = RecursiveCharacterTextSplitter(\n",
        "      chunk_size=500,\n",
        "      chunk_overlap=100,\n",
        "      add_start_index=True\n",
        "    )\n",
        "\n",
        "    text_chunks = text_splitter.split_documents(pages)\n",
        "\n",
        "    # Pinecone setup (Ingesting data into pinecone vector database)\n",
        "    PineconeVectorStore.from_documents(\n",
        "      text_chunks,\n",
        "      embedding_model,\n",
        "      index_name=os.getenv('INDEX_NAME'),\n",
        "    )\n",
        "\n",
        "    return \"Document uploaded successfully\"\n",
        "  except Exception as e:\n",
        "    print(f\"Document upload failed, error: {e}\")"
      ],
      "metadata": {
        "id": "aYyOaiLwvkAk"
      },
      "id": "aYyOaiLwvkAk",
      "execution_count": null,
      "outputs": []
    },
    {
      "cell_type": "code",
      "source": [
        "upload_document(doc_path=\"human_nutrition.pdf\")"
      ],
      "metadata": {
        "colab": {
          "base_uri": "https://localhost:8080/"
        },
        "id": "bkWgq6bh2M_B",
        "outputId": "1a9987d0-ede1-46b0-dbea-50a404fd18a9"
      },
      "id": "bkWgq6bh2M_B",
      "execution_count": null,
      "outputs": [
        {
          "output_type": "execute_result",
          "data": {
            "text/plain": [
              "'Document uploaded successfully'"
            ]
          },
          "metadata": {},
          "execution_count": 17
        }
      ]
    },
    {
      "cell_type": "markdown",
      "source": [
        "# **Retrival and Generation**"
      ],
      "metadata": {
        "id": "ZuSRgpdRoOHx"
      },
      "id": "ZuSRgpdRoOHx"
    },
    {
      "cell_type": "code",
      "source": [
        "def query_document(query: str):\n",
        "  llm = ChatMistralAI(\n",
        "    model=\"mistral-large-latest\",\n",
        "    temperature=0,\n",
        "    max_retries=2\n",
        "  )\n",
        "\n",
        "  vectorstore = PineconeVectorStore(index_name=os.getenv(\"INDEX_NAME\"), embedding=embedding_model)\n",
        "\n",
        "  retrieval_qa_chat_prompt = hub.pull(\"langchain-ai/retrieval-qa-chat\")\n",
        "  combine_docs_chain = create_stuff_documents_chain(llm, retrieval_qa_chat_prompt)\n",
        "\n",
        "  retrival_chain = create_retrieval_chain(\n",
        "    retriever=vectorstore.as_retriever(), combine_docs_chain=combine_docs_chain\n",
        "  )\n",
        "\n",
        "  result = retrival_chain.invoke(input={\"input\": query})\n",
        "  print(\"Answer: \")\n",
        "  return result['answer']"
      ],
      "metadata": {
        "id": "Dvn9r2sXBmjk"
      },
      "id": "Dvn9r2sXBmjk",
      "execution_count": 21,
      "outputs": []
    },
    {
      "cell_type": "code",
      "source": [
        "query_document(\"What are macronutrients?\")"
      ],
      "metadata": {
        "colab": {
          "base_uri": "https://localhost:8080/"
        },
        "id": "g9rjXFZbNrib",
        "outputId": "1b4f9381-64d4-4046-b1d7-9d4ad7399700"
      },
      "id": "g9rjXFZbNrib",
      "execution_count": 22,
      "outputs": [
        {
          "output_type": "stream",
          "name": "stdout",
          "text": [
            "Answer: \n"
          ]
        },
        {
          "output_type": "execute_result",
          "data": {
            "text/plain": [
              "'Macronutrients are nutrients that are needed in large amounts. There are three classes of macronutrients: carbohydrates, lipids, and proteins. These can be metabolically processed into cellular energy. The energy from macronutrients comes from their chemical bonds, which is then converted into cellular energy that is utilized to perform work, allowing our bodies to conduct their basic functions.'"
            ]
          },
          "metadata": {},
          "execution_count": 22
        }
      ]
    }
  ],
  "metadata": {
    "kernelspec": {
      "display_name": "pdf_chat_ipykernel",
      "language": "python",
      "name": "pdf_chat_ipykernel"
    },
    "language_info": {
      "codemirror_mode": {
        "name": "ipython",
        "version": 3
      },
      "file_extension": ".py",
      "mimetype": "text/x-python",
      "name": "python",
      "nbconvert_exporter": "python",
      "pygments_lexer": "ipython3",
      "version": "3.12.7"
    },
    "colab": {
      "provenance": [],
      "include_colab_link": true
    }
  },
  "nbformat": 4,
  "nbformat_minor": 5
}